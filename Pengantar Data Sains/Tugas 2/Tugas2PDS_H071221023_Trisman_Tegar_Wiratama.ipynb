{
  "nbformat": 4,
  "nbformat_minor": 0,
  "metadata": {
    "colab": {
      "provenance": []
    },
    "kernelspec": {
      "name": "python3",
      "display_name": "Python 3"
    },
    "language_info": {
      "name": "python"
    }
  },
  "cells": [
    {
      "cell_type": "markdown",
      "source": [
        "# **1. Seleksi Unvariate**\n",
        "\n",
        "---\n",
        "\n",
        "\n",
        "Metode paling sederhana dan tercepat didasarkan pada uji statistik univariat. Untuk setiap fitur, ukur seberapa kuat target bergantung pada fitur menggunakan uji statistik seperti χ2 (chi-square) or ANOVA.\n",
        "\n",
        "Uji statistik dapat digunakan untuk memilih fitur-fitur tersebut yang memiliki relasi paling kuat dengan variabel output/target. Library scikit-learn menyediakan class SelectKBest yang digunakan untuk serangkaian uji statistik berbeda untuk memilih angka spesifik dari fitur. Berikut ini adalah uji statistik chi-square utk fitur non-negatif untuk memilih 10 fitur terbaik dari dataset Mobile Price Range Prediction."
      ],
      "metadata": {
        "id": "DgBkzfWdlY0N"
      }
    },
    {
      "cell_type": "code",
      "execution_count": 92,
      "metadata": {
        "id": "3TAi3MJUiJ9Y"
      },
      "outputs": [],
      "source": [
        "# import library\n",
        "import pandas as pd\n",
        "import numpy as np\n",
        "from sklearn.feature_selection import SelectKBest\n",
        "from sklearn.feature_selection import chi2\n",
        "from sklearn.preprocessing import MinMaxScaler"
      ]
    },
    {
      "cell_type": "code",
      "source": [
        "# memuat data\n",
        "data = pd.read_csv(\"gpa_iq.csv\")\n",
        "data.head()"
      ],
      "metadata": {
        "colab": {
          "base_uri": "https://localhost:8080/",
          "height": 206
        },
        "id": "KYPvsEu8jiwU",
        "outputId": "3488c84f-16fe-49dd-9b8d-451399d9e298"
      },
      "execution_count": 94,
      "outputs": [
        {
          "output_type": "execute_result",
          "data": {
            "text/plain": [
              "   obs    gpa   iq  gender  concept\n",
              "0    1  7.940  111       2       67\n",
              "1    2  8.292  107       2       43\n",
              "2    3  4.643  100       2       52\n",
              "3    4  7.470  107       2       66\n",
              "4    5  8.882  114       1       58"
            ],
            "text/html": [
              "\n",
              "  <div id=\"df-90b28a61-a98d-4e9b-b978-39a107eb19ef\" class=\"colab-df-container\">\n",
              "    <div>\n",
              "<style scoped>\n",
              "    .dataframe tbody tr th:only-of-type {\n",
              "        vertical-align: middle;\n",
              "    }\n",
              "\n",
              "    .dataframe tbody tr th {\n",
              "        vertical-align: top;\n",
              "    }\n",
              "\n",
              "    .dataframe thead th {\n",
              "        text-align: right;\n",
              "    }\n",
              "</style>\n",
              "<table border=\"1\" class=\"dataframe\">\n",
              "  <thead>\n",
              "    <tr style=\"text-align: right;\">\n",
              "      <th></th>\n",
              "      <th>obs</th>\n",
              "      <th>gpa</th>\n",
              "      <th>iq</th>\n",
              "      <th>gender</th>\n",
              "      <th>concept</th>\n",
              "    </tr>\n",
              "  </thead>\n",
              "  <tbody>\n",
              "    <tr>\n",
              "      <th>0</th>\n",
              "      <td>1</td>\n",
              "      <td>7.940</td>\n",
              "      <td>111</td>\n",
              "      <td>2</td>\n",
              "      <td>67</td>\n",
              "    </tr>\n",
              "    <tr>\n",
              "      <th>1</th>\n",
              "      <td>2</td>\n",
              "      <td>8.292</td>\n",
              "      <td>107</td>\n",
              "      <td>2</td>\n",
              "      <td>43</td>\n",
              "    </tr>\n",
              "    <tr>\n",
              "      <th>2</th>\n",
              "      <td>3</td>\n",
              "      <td>4.643</td>\n",
              "      <td>100</td>\n",
              "      <td>2</td>\n",
              "      <td>52</td>\n",
              "    </tr>\n",
              "    <tr>\n",
              "      <th>3</th>\n",
              "      <td>4</td>\n",
              "      <td>7.470</td>\n",
              "      <td>107</td>\n",
              "      <td>2</td>\n",
              "      <td>66</td>\n",
              "    </tr>\n",
              "    <tr>\n",
              "      <th>4</th>\n",
              "      <td>5</td>\n",
              "      <td>8.882</td>\n",
              "      <td>114</td>\n",
              "      <td>1</td>\n",
              "      <td>58</td>\n",
              "    </tr>\n",
              "  </tbody>\n",
              "</table>\n",
              "</div>\n",
              "    <div class=\"colab-df-buttons\">\n",
              "\n",
              "  <div class=\"colab-df-container\">\n",
              "    <button class=\"colab-df-convert\" onclick=\"convertToInteractive('df-90b28a61-a98d-4e9b-b978-39a107eb19ef')\"\n",
              "            title=\"Convert this dataframe to an interactive table.\"\n",
              "            style=\"display:none;\">\n",
              "\n",
              "  <svg xmlns=\"http://www.w3.org/2000/svg\" height=\"24px\" viewBox=\"0 -960 960 960\">\n",
              "    <path d=\"M120-120v-720h720v720H120Zm60-500h600v-160H180v160Zm220 220h160v-160H400v160Zm0 220h160v-160H400v160ZM180-400h160v-160H180v160Zm440 0h160v-160H620v160ZM180-180h160v-160H180v160Zm440 0h160v-160H620v160Z\"/>\n",
              "  </svg>\n",
              "    </button>\n",
              "\n",
              "  <style>\n",
              "    .colab-df-container {\n",
              "      display:flex;\n",
              "      gap: 12px;\n",
              "    }\n",
              "\n",
              "    .colab-df-convert {\n",
              "      background-color: #E8F0FE;\n",
              "      border: none;\n",
              "      border-radius: 50%;\n",
              "      cursor: pointer;\n",
              "      display: none;\n",
              "      fill: #1967D2;\n",
              "      height: 32px;\n",
              "      padding: 0 0 0 0;\n",
              "      width: 32px;\n",
              "    }\n",
              "\n",
              "    .colab-df-convert:hover {\n",
              "      background-color: #E2EBFA;\n",
              "      box-shadow: 0px 1px 2px rgba(60, 64, 67, 0.3), 0px 1px 3px 1px rgba(60, 64, 67, 0.15);\n",
              "      fill: #174EA6;\n",
              "    }\n",
              "\n",
              "    .colab-df-buttons div {\n",
              "      margin-bottom: 4px;\n",
              "    }\n",
              "\n",
              "    [theme=dark] .colab-df-convert {\n",
              "      background-color: #3B4455;\n",
              "      fill: #D2E3FC;\n",
              "    }\n",
              "\n",
              "    [theme=dark] .colab-df-convert:hover {\n",
              "      background-color: #434B5C;\n",
              "      box-shadow: 0px 1px 3px 1px rgba(0, 0, 0, 0.15);\n",
              "      filter: drop-shadow(0px 1px 2px rgba(0, 0, 0, 0.3));\n",
              "      fill: #FFFFFF;\n",
              "    }\n",
              "  </style>\n",
              "\n",
              "    <script>\n",
              "      const buttonEl =\n",
              "        document.querySelector('#df-90b28a61-a98d-4e9b-b978-39a107eb19ef button.colab-df-convert');\n",
              "      buttonEl.style.display =\n",
              "        google.colab.kernel.accessAllowed ? 'block' : 'none';\n",
              "\n",
              "      async function convertToInteractive(key) {\n",
              "        const element = document.querySelector('#df-90b28a61-a98d-4e9b-b978-39a107eb19ef');\n",
              "        const dataTable =\n",
              "          await google.colab.kernel.invokeFunction('convertToInteractive',\n",
              "                                                    [key], {});\n",
              "        if (!dataTable) return;\n",
              "\n",
              "        const docLinkHtml = 'Like what you see? Visit the ' +\n",
              "          '<a target=\"_blank\" href=https://colab.research.google.com/notebooks/data_table.ipynb>data table notebook</a>'\n",
              "          + ' to learn more about interactive tables.';\n",
              "        element.innerHTML = '';\n",
              "        dataTable['output_type'] = 'display_data';\n",
              "        await google.colab.output.renderOutput(dataTable, element);\n",
              "        const docLink = document.createElement('div');\n",
              "        docLink.innerHTML = docLinkHtml;\n",
              "        element.appendChild(docLink);\n",
              "      }\n",
              "    </script>\n",
              "  </div>\n",
              "\n",
              "\n",
              "<div id=\"df-fed2c5eb-6b0d-4ccb-ab61-d611aff40e1f\">\n",
              "  <button class=\"colab-df-quickchart\" onclick=\"quickchart('df-fed2c5eb-6b0d-4ccb-ab61-d611aff40e1f')\"\n",
              "            title=\"Suggest charts.\"\n",
              "            style=\"display:none;\">\n",
              "\n",
              "<svg xmlns=\"http://www.w3.org/2000/svg\" height=\"24px\"viewBox=\"0 0 24 24\"\n",
              "     width=\"24px\">\n",
              "    <g>\n",
              "        <path d=\"M19 3H5c-1.1 0-2 .9-2 2v14c0 1.1.9 2 2 2h14c1.1 0 2-.9 2-2V5c0-1.1-.9-2-2-2zM9 17H7v-7h2v7zm4 0h-2V7h2v10zm4 0h-2v-4h2v4z\"/>\n",
              "    </g>\n",
              "</svg>\n",
              "  </button>\n",
              "\n",
              "<style>\n",
              "  .colab-df-quickchart {\n",
              "      --bg-color: #E8F0FE;\n",
              "      --fill-color: #1967D2;\n",
              "      --hover-bg-color: #E2EBFA;\n",
              "      --hover-fill-color: #174EA6;\n",
              "      --disabled-fill-color: #AAA;\n",
              "      --disabled-bg-color: #DDD;\n",
              "  }\n",
              "\n",
              "  [theme=dark] .colab-df-quickchart {\n",
              "      --bg-color: #3B4455;\n",
              "      --fill-color: #D2E3FC;\n",
              "      --hover-bg-color: #434B5C;\n",
              "      --hover-fill-color: #FFFFFF;\n",
              "      --disabled-bg-color: #3B4455;\n",
              "      --disabled-fill-color: #666;\n",
              "  }\n",
              "\n",
              "  .colab-df-quickchart {\n",
              "    background-color: var(--bg-color);\n",
              "    border: none;\n",
              "    border-radius: 50%;\n",
              "    cursor: pointer;\n",
              "    display: none;\n",
              "    fill: var(--fill-color);\n",
              "    height: 32px;\n",
              "    padding: 0;\n",
              "    width: 32px;\n",
              "  }\n",
              "\n",
              "  .colab-df-quickchart:hover {\n",
              "    background-color: var(--hover-bg-color);\n",
              "    box-shadow: 0 1px 2px rgba(60, 64, 67, 0.3), 0 1px 3px 1px rgba(60, 64, 67, 0.15);\n",
              "    fill: var(--button-hover-fill-color);\n",
              "  }\n",
              "\n",
              "  .colab-df-quickchart-complete:disabled,\n",
              "  .colab-df-quickchart-complete:disabled:hover {\n",
              "    background-color: var(--disabled-bg-color);\n",
              "    fill: var(--disabled-fill-color);\n",
              "    box-shadow: none;\n",
              "  }\n",
              "\n",
              "  .colab-df-spinner {\n",
              "    border: 2px solid var(--fill-color);\n",
              "    border-color: transparent;\n",
              "    border-bottom-color: var(--fill-color);\n",
              "    animation:\n",
              "      spin 1s steps(1) infinite;\n",
              "  }\n",
              "\n",
              "  @keyframes spin {\n",
              "    0% {\n",
              "      border-color: transparent;\n",
              "      border-bottom-color: var(--fill-color);\n",
              "      border-left-color: var(--fill-color);\n",
              "    }\n",
              "    20% {\n",
              "      border-color: transparent;\n",
              "      border-left-color: var(--fill-color);\n",
              "      border-top-color: var(--fill-color);\n",
              "    }\n",
              "    30% {\n",
              "      border-color: transparent;\n",
              "      border-left-color: var(--fill-color);\n",
              "      border-top-color: var(--fill-color);\n",
              "      border-right-color: var(--fill-color);\n",
              "    }\n",
              "    40% {\n",
              "      border-color: transparent;\n",
              "      border-right-color: var(--fill-color);\n",
              "      border-top-color: var(--fill-color);\n",
              "    }\n",
              "    60% {\n",
              "      border-color: transparent;\n",
              "      border-right-color: var(--fill-color);\n",
              "    }\n",
              "    80% {\n",
              "      border-color: transparent;\n",
              "      border-right-color: var(--fill-color);\n",
              "      border-bottom-color: var(--fill-color);\n",
              "    }\n",
              "    90% {\n",
              "      border-color: transparent;\n",
              "      border-bottom-color: var(--fill-color);\n",
              "    }\n",
              "  }\n",
              "</style>\n",
              "\n",
              "  <script>\n",
              "    async function quickchart(key) {\n",
              "      const quickchartButtonEl =\n",
              "        document.querySelector('#' + key + ' button');\n",
              "      quickchartButtonEl.disabled = true;  // To prevent multiple clicks.\n",
              "      quickchartButtonEl.classList.add('colab-df-spinner');\n",
              "      try {\n",
              "        const charts = await google.colab.kernel.invokeFunction(\n",
              "            'suggestCharts', [key], {});\n",
              "      } catch (error) {\n",
              "        console.error('Error during call to suggestCharts:', error);\n",
              "      }\n",
              "      quickchartButtonEl.classList.remove('colab-df-spinner');\n",
              "      quickchartButtonEl.classList.add('colab-df-quickchart-complete');\n",
              "    }\n",
              "    (() => {\n",
              "      let quickchartButtonEl =\n",
              "        document.querySelector('#df-fed2c5eb-6b0d-4ccb-ab61-d611aff40e1f button');\n",
              "      quickchartButtonEl.style.display =\n",
              "        google.colab.kernel.accessAllowed ? 'block' : 'none';\n",
              "    })();\n",
              "  </script>\n",
              "</div>\n",
              "    </div>\n",
              "  </div>\n"
            ]
          },
          "metadata": {},
          "execution_count": 94
        }
      ]
    },
    {
      "cell_type": "code",
      "source": [
        "# memilih data yang dibutuhkan\n",
        "X = data.iloc[:,0:20]  #independent colums\n",
        "y = data.iloc[:,-1]    # target colum i.e price range"
      ],
      "metadata": {
        "id": "4dUEJoYujoA3"
      },
      "execution_count": 95,
      "outputs": []
    },
    {
      "cell_type": "code",
      "source": [
        "# menerapkan SelectKBest untuk melakukan ekstraksi\n",
        "bestfeatures = SelectKBest(score_func=chi2, k=5)\n",
        "fit = bestfeatures.fit(X,y)\n",
        "dfscores = pd.DataFrame(fit.scores_)\n",
        "dfcolumns = pd.DataFrame(X.columns)"
      ],
      "metadata": {
        "id": "XOUU4i2xkPpl"
      },
      "execution_count": 97,
      "outputs": []
    },
    {
      "cell_type": "code",
      "source": [
        "# menggabungkan 2 dataframe\n",
        "featureScores = pd.concat([dfcolumns,dfscores],axis=1)\n",
        "featureScores.columns = ['Specs','Score']  #naming the dataframe columns\n",
        "print(featureScores.nlargest(10,'Score'))  #print 10 best features"
      ],
      "metadata": {
        "id": "GGl-qymVkP0e",
        "colab": {
          "base_uri": "https://localhost:8080/"
        },
        "outputId": "cc1619c3-2680-4e35-8e9c-dcda8f5cb1fd"
      },
      "execution_count": 98,
      "outputs": [
        {
          "output_type": "stream",
          "name": "stdout",
          "text": [
            "     Specs       Score\n",
            "0      obs  568.606862\n",
            "4  concept  208.261310\n",
            "2       iq   74.653496\n",
            "1      gpa   31.598310\n",
            "3   gender    6.019200\n"
          ]
        }
      ]
    },
    {
      "cell_type": "markdown",
      "source": [
        "# **2. Feature Importance**\n",
        "\n",
        "---\n",
        "Feature importance mengacu pada kelas teknik untuk menetapkan skor ke fitur input ke model prediktif yang menunjukkan importance relatif dari setiap fitur saat membuat prediksi. Skor Feature importance dapat dihitung untuk masalah yang melibatkan prediksi nilai numerik, yang disebut regresi, dan masalah yang melibatkan prediksi label kelas, yang disebut klasifikasi.\n",
        "\n",
        "Skor digunakan dalam berbagai situasi dalam masalah pemodelan prediktif, seperti:\n",
        "*   Lebih memahami data.\n",
        "*   Lebih memahami model.\n",
        "*   Mengurangi jumlah fitur input.\n",
        "*   memberi skor untuk setiap fitur data, semakin tinggi skor semakin penting atau relevan fitur tersebut terhadap variabel output\n",
        "\n",
        "Inbuilt yang dilengkapi dengan Pengklasifikasi Berbasis Pohon (Tree Based Classifier), kami akan menggunakan Pengklasifikasi Pohon Ekstra untuk mengekstraksi 10 fitur teratas untuk kumpulan data"
      ],
      "metadata": {
        "id": "0vpP2E-MmDwq"
      }
    },
    {
      "cell_type": "code",
      "source": [
        "# import library\n",
        "import pandas as pd\n",
        "import numpy as np\n",
        "from sklearn.ensemble import ExtraTreesClassifier\n",
        "import matplotlib.pyplot as plt"
      ],
      "metadata": {
        "id": "iq0bLbeTkgY8"
      },
      "execution_count": 39,
      "outputs": []
    },
    {
      "cell_type": "code",
      "source": [
        "# memuat data\n",
        "data = pd.read_csv(\"gpa_iq.csv\")\n",
        "X = data.iloc[:,0:20]  #independent columns\n",
        "y = data.iloc[:,-1]    #target column i.e price range\n"
      ],
      "metadata": {
        "id": "zoNH6I4_kkda"
      },
      "execution_count": 99,
      "outputs": []
    },
    {
      "cell_type": "code",
      "source": [
        "# melakukan ExtraTreesClassifier untuk mengekstraksi fitur\n",
        "model = ExtraTreesClassifier()\n",
        "model.fit(X,y)\n",
        "print(model.feature_importances_) #use inbuilt class feature_importances of tree based classifiers"
      ],
      "metadata": {
        "colab": {
          "base_uri": "https://localhost:8080/"
        },
        "id": "5dE_JGzOm0Of",
        "outputId": "3cc29c8f-714b-45e0-87d1-8051efd9a64c"
      },
      "execution_count": 100,
      "outputs": [
        {
          "output_type": "stream",
          "name": "stdout",
          "text": [
            "[0.19748958 0.19842446 0.20283755 0.04017313 0.36107528]\n"
          ]
        }
      ]
    },
    {
      "cell_type": "code",
      "source": [
        "# melakukan plot dari feature importances\n",
        "feat_importances = pd.Series(model.feature_importances_, index=X.columns)\n",
        "feat_importances.nlargest(10).plot(kind='barh')\n",
        "plt.show()"
      ],
      "metadata": {
        "colab": {
          "base_uri": "https://localhost:8080/",
          "height": 430
        },
        "id": "RAp7_uzzm3Wh",
        "outputId": "09035304-9ebc-4906-8f41-14ba53a261ee"
      },
      "execution_count": 101,
      "outputs": [
        {
          "output_type": "display_data",
          "data": {
            "text/plain": [
              "<Figure size 640x480 with 1 Axes>"
            ],
            "image/png": "[encoded data removed]"
          },
          "metadata": {}
        }
      ]
    },
    {
      "cell_type": "markdown",
      "source": [
        "# **3. Matriks Korelasi dengan Heatmap**\n",
        "\n",
        "---\n",
        "\n",
        "*   Korelasi menyatakan bagaimana fitur terkait satu sama lain atau variabel target.\n",
        "*  Korelasi bisa positif (kenaikan satu nilai fitur meningkatkan nilai variabel target) atau negatif (kenaikan satu nilai fitur menurunkan nilai variabel target)\n",
        "*  Heatmap memudahkan untuk mengidentifikasi fitur mana yang paling terkait dengan variabel target, kami akan memplot peta panas fitur yang berkorelasi menggunakan seaborn library\n"
      ],
      "metadata": {
        "id": "SnMHEHMTm6y3"
      }
    },
    {
      "cell_type": "code",
      "source": [
        "# import library\n",
        "import pandas as pd\n",
        "import numpy as np\n",
        "import seaborn as sns"
      ],
      "metadata": {
        "id": "FMDw276FnSti"
      },
      "execution_count": 102,
      "outputs": []
    },
    {
      "cell_type": "code",
      "source": [
        "# memuat data\n",
        "data = pd.read_csv(\"gpa_iq.csv\")\n",
        "X = data.iloc[:,0:20]  #independent columns\n",
        "y = data.iloc[:,-1]    #target column i.e price range"
      ],
      "metadata": {
        "id": "2YYrh5gLndEm"
      },
      "execution_count": 103,
      "outputs": []
    },
    {
      "cell_type": "code",
      "source": [
        "# mendapatkan  correlations dari setiap fitur dalam dataset\n",
        "corrmat = data.corr()\n",
        "top_corr_features = corrmat.index"
      ],
      "metadata": {
        "id": "vPfZw5zqnhkz"
      },
      "execution_count": 104,
      "outputs": []
    },
    {
      "cell_type": "markdown",
      "source": [
        "# **Matriks Korelasi dengan Heatmap (lanjutan)**\n",
        "\n",
        "---\n",
        "\n"
      ],
      "metadata": {
        "id": "TtLc7Hdp3dpK"
      }
    },
    {
      "cell_type": "code",
      "source": [
        "# plot heatmap\n",
        "plt.figure(figsize=(20,20))\n",
        "g=sns.heatmap(data[top_corr_features].corr(),annot=True,cmap=\"RdYlGn\")"
      ],
      "metadata": {
        "colab": {
          "base_uri": "https://localhost:8080/",
          "height": 1000
        },
        "id": "GX5Za5ghb_vU",
        "outputId": "a638ee27-7482-462c-e49b-f43225aaa689"
      },
      "execution_count": 106,
      "outputs": [
        {
          "output_type": "display_data",
          "data": {
            "text/plain": [
              "<Figure size 2000x2000 with 2 Axes>"
            ],
            "image/png": "[encoded data removed]"
          },
          "metadata": {}
        }
      ]
    },
    {
      "cell_type": "markdown",
      "source": [
        "**Kesimpulan**\n",
        "- Concept dan Obs (-0.13):\n",
        "Korelasi antara \"Concept\" dan \"Obs\" adalah -0.13, yang menunjukkan korelasi negatif lemah antara kedua variabel ini. Artinya, ketika nilai \"Concept\" meningkat, nilai \"Obs\" cenderung menurun dalam tingkat yang rendah.\n",
        "- Concept dan GPA (0.54):\n",
        "Korelasi antara \"Concept\" dan \"GPA\" adalah 0.54, yang menunjukkan korelasi positif kuat antara kedua variabel ini. Ini menandakan bahwa semakin tinggi nilai \"Concept,\" semakin tinggi juga nilai \"GPA\" dengan kuat.\n",
        "- Concept dan IQ (0.49):\n",
        "Korelasi antara \"Concept\" dan \"IQ\" adalah 0.49, yang menunjukkan korelasi positif antara kedua variabel ini. Meskipun tidak sekuat korelasi antara \"Concept\" dan \"GPA,\" masih ada hubungan positif yang moderat antara keduanya. Artinya, semakin tinggi nilai \"Concept,\" semakin tinggi nilai \"IQ\" dengan sejumlah yang lebih moderat.\n",
        "- Concept dan Gender (0.095):\n",
        "Korelasi antara \"Concept\" dan \"Gender\" adalah 0.095, yang menunjukkan korelasi positif sangat lemah antara kedua variabel ini. Ini menandakan bahwa ada sedikit hubungan antara konsep dan jenis kelamin siswa, dan hubungan tersebut sangat lemah.\n",
        "- Gender dan Obs (-0.02):\n",
        "Korelasi antara \"Gender\" dan \"Obs\" adalah -0.02, yang menunjukkan bahwa tidak ada korelasi yang signifikan antara jenis kelamin (gender) dan variabel \"Obs.\" Korelasi ini sangat dekat dengan nol, menunjukkan bahwa jenis kelamin tidak memiliki pengaruh yang signifikan terhadap variabel \"Obs.\"\n",
        "- Gender dan GPA (-0.097):\n",
        "Korelasi antara \"Gender\" dan \"GPA\" adalah -0.097, yang juga menunjukkan bahwa tidak ada korelasi yang signifikan antara jenis kelamin (gender) dan variabel \"GPA.\" Korelasi ini juga sangat dekat dengan nol, menunjukkan bahwa jenis kelamin tidak memiliki pengaruh yang signifikan terhadap variabel \"GPA.\"\n",
        "- Gender dan IQ (0.19):\n",
        "Korelasi antara \"Gender\" dan \"IQ\" adalah 0.19, yang menunjukkan korelasi positif lemah antara jenis kelamin (gender) dan variabel \"IQ.\" Artinya, ada sedikit hubungan positif antara jenis kelamin dan IQ, tetapi hubungannya lemah.\n",
        "- IQ dan Obs (-0.2):\n",
        "Korelasi antara \"IQ\" dan \"Obs\" adalah -0.2, yang menunjukkan korelasi negatif lemah antara kedua variabel ini. Artinya, ketika nilai \"IQ\" meningkat, nilai \"Obs\" cenderung menurun dalam tingkat yang lemah.\n",
        "- IQ dan GPA (-0.63):\n",
        "Korelasi antara \"IQ\" dan \"GPA\" adalah -0.63, yang menunjukkan korelasi negatif kuat antara kedua variabel ini. Ini menandakan bahwa semakin tinggi nilai \"IQ,\" semakin rendah nilai \"GPA\" dengan kuat.\n",
        "- IQ dan Concept (0.49):\n",
        "Korelasi antara \"IQ\" dan \"Concept\" adalah 0.49, yang menunjukkan korelasi positif moderat antara kedua variabel ini. Artinya, terdapat hubungan positif yang sedang antara \"IQ\" dan \"Concept.\" Semakin tinggi nilai \"IQ,\" semakin tinggi juga nilai \"Concept\" dengan sejumlah yang lebih moderat.\n",
        "GPA dan Obs (-0.024):\n",
        "- Korelasi antara \"GPA\" dan \"Obs\" adalah -0.024, yang menunjukkan korelasi negatif sangat lemah antara kedua variabel ini. Artinya, tidak ada hubungan yang signifikan antara nilai \"GPA\" dan nilai \"Obs.\" Korelasi ini sangat mendekati nol, menunjukkan bahwa perubahan dalam \"GPA\" tidak secara signifikan terkait dengan perubahan dalam \"Obs.\"\n"
      ],
      "metadata": {
        "id": "LtPgtSBwcONE"
      }
    }
  ]
}